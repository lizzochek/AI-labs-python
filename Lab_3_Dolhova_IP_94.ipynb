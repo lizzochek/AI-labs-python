{
  "nbformat": 4,
  "nbformat_minor": 0,
  "metadata": {
    "colab": {
      "provenance": [],
      "authorship_tag": "ABX9TyMFywD5X5BFImI++PNN9r+0",
      "include_colab_link": true
    },
    "kernelspec": {
      "name": "python3",
      "display_name": "Python 3"
    },
    "language_info": {
      "name": "python"
    }
  },
  "cells": [
    {
      "cell_type": "markdown",
      "metadata": {
        "id": "view-in-github",
        "colab_type": "text"
      },
      "source": [
        "<a href=\"https://colab.research.google.com/github/lizzochek/AI-labs-python/blob/master/Lab_3_Dolhova_IP_94.ipynb\" target=\"_parent\"><img src=\"https://colab.research.google.com/assets/colab-badge.svg\" alt=\"Open In Colab\"/></a>"
      ]
    },
    {
      "cell_type": "markdown",
      "source": [
        "Алгоритм генерації графа: \n",
        "1. Задаємо кількість вершин\n",
        "2. Створюємо порожній граф\n",
        "3. Кількість вершин в ряду - корінь з кількості всіх  вершин  \n",
        "4. Створюємо номери вершин за допомогою arange  (повертає числа з інтервалом 1)\n",
        "5. Робимо reshape отриманих номерів, щоб мати двовимірний масив номерів вершин за рядами\n",
        "6. Для кожного елемента отриманого масиву (вершини): \n",
        "      \n",
        "      6.1 Номер вершини - номер ряда * порядок у ряду\n",
        "      \n",
        "      6.2 Додаємо вершину, вказуючи її номер та номер ряда як label \n",
        "      \n",
        "      6.3 Для всіх вершин, крім крайнього правого стовпця додаємо ребро до наступної вершини (горизонтальні шляхи)\n",
        "      \n",
        "      6.4 Для всіх вершин, крім нижнього ряду, додаємо ребро до відповідної вершини наступного ряду (вертикальні шляхи)\n",
        "\n",
        "7. Для позиціонування лініями використовуємо multipartite layout\n",
        "8. Виводимо граф.\n"
      ],
      "metadata": {
        "id": "yzFx5lRlHEx0"
      }
    },
    {
      "cell_type": "code",
      "execution_count": null,
      "metadata": {
        "colab": {
          "base_uri": "https://localhost:8080/",
          "height": 319
        },
        "id": "uWwrVM6oqX7r",
        "outputId": "5bf7dfc3-5cd9-4ce3-e1a0-e29a97a50106"
      },
      "outputs": [
        {
          "output_type": "display_data",
          "data": {
            "text/plain": [
              "<Figure size 432x288 with 1 Axes>"
            ],
            "image/png": "[encoded data removed]"
          },
          "metadata": {}
        }
      ],
      "source": [
        "import numpy as np;\n",
        "import math;\n",
        "import networkx as nx;\n",
        "\n",
        "#1\n",
        "num = 36;\n",
        "\n",
        "#2\n",
        "G = nx.Graph();\n",
        "#3\n",
        "row_range = int(math.sqrt(num));\n",
        "\n",
        "#4\n",
        "vertices = np.arange(0, num, 1)\n",
        "#5\n",
        "layers = vertices.reshape((row_range, row_range));\n",
        "\n",
        "for i in range(row_range):\n",
        "    for j in range(row_range):\n",
        "        #6.1\n",
        "        v = layers[j][i];    \n",
        "        #6.2\n",
        "        G.add_node(v, layer=i);\n",
        "    \n",
        "        #6.3\n",
        "        if i != row_range - 1:\n",
        "            G.add_edge(v, v+1);\n",
        "        #6.4\n",
        "        if v < num - row_range:\n",
        "          G.add_edge(v, v + row_range);\n",
        "\n",
        "#7\n",
        "pos = nx.multipartite_layout(G, subset_key='layer');\n",
        "#8\n",
        "nx.draw(G, pos, node_size=1000, with_labels=True);"
      ]
    },
    {
      "cell_type": "markdown",
      "source": [
        "1. Зазначаємо кількість вершин для видалення\n",
        "2. Встановлюємо кількість видалених вершин\n",
        "3. Поки кількість видалених вершин менша за необхідну:\n",
        "\n",
        "   3.1 Знаходимо випадкове ребро \n",
        "\n",
        "   3.2 Видаляємо це ребро\n",
        "\n",
        "   3.3 Перевіряємо чи граф зв`язний\n",
        "\n",
        "   3.4 Якщо зв`язний, видаляємо та змінюємо кількість видалених, якщо ні, повертаємо ребро у граф\n",
        "\n",
        "4. Виводимо граф\n"
      ],
      "metadata": {
        "id": "ARXKAhvnRHXx"
      }
    },
    {
      "cell_type": "code",
      "source": [
        "import random\n",
        "\n",
        "def remove_nodes(num: int = 5):\n",
        "  #1\n",
        "  to_remove_num = num;\n",
        "  #2\n",
        "  removed_num = 0;\n",
        "\n",
        "  #3\n",
        "  while removed_num < to_remove_num:\n",
        "    #3.1\n",
        "    edges = list(G.edges)\n",
        "    random_edge = random.choice(edges)\n",
        "    #3.2\n",
        "    G.remove_edge(random_edge[0], random_edge[1]);\n",
        "    #3.3\n",
        "    connected = nx.is_connected(G);\n",
        "    \n",
        "    #3.4\n",
        "    if connected:\n",
        "      removed_num += 1;\n",
        "    else:\n",
        "      G.add_edge(random_edge[0], random_edge[1]);\n",
        "\n",
        "remove_nodes(6);\n",
        "\n",
        "nx.draw(G, pos, node_size=1000, with_labels=True);"
      ],
      "metadata": {
        "colab": {
          "base_uri": "https://localhost:8080/",
          "height": 319
        },
        "id": "RjJ3DPz9ObIb",
        "outputId": "b6763295-4332-4e39-f203-c1463a3cab4c"
      },
      "execution_count": null,
      "outputs": [
        {
          "output_type": "display_data",
          "data": {
            "text/plain": [
              "<Figure size 432x288 with 1 Axes>"
            ],
            "image/png": "[encoded data removed]"
          },
          "metadata": {}
        }
      ]
    },
    {
      "cell_type": "markdown",
      "source": [
        "# Розробка агента"
      ],
      "metadata": {
        "id": "KVwDsZhahOki"
      }
    },
    {
      "cell_type": "markdown",
      "source": [
        "Розглянемо допоміжні функції.\n",
        "\n",
        "`find_closest_node` дозволяє знайти найближчу за модулем вершину до кінцевої, а також наступну найближчу на перехресті, до якого веде ця вершина. Таким чином, агент може робити одразу два кроки, базуючись на знаннях про перехрестя.\n",
        "\n",
        "Алгоритм роботи фінкції:\n",
        "1. Оскільки ми шукатимемо найближчу вершину, початковою мінімальною відстанню вважаємо кількість вершин графа (відстань від 0 до 25) і будемо шукати меншу.\n",
        "2. Ітеруємось по невідвіданим вершинам, до яких є шлях з поточної.\n",
        "3. Якщо від вершини немає шляху, пропускаємо її\n",
        "4. Знаходимо різницю за модулем потенціальної наступної вершини та кінцевої\n",
        "5. Якщо різниця менша за мінімальну, записуємо її мінімальною та вважаємо цю вершину наступною\n",
        "6. Якщо це наступна вершина від поточної (тобто ми знаємо, куди веде наступне перехрестя), викликаємо `find_closest_node`, щоб знайти вершину для другого кроку. Викликаємо без crossroads, бо ми не знаємо, куди ведуть перехрестя на відстані більше за 2 кроки.\n",
        "7. Якщо шукаємо для другого кроку, повертаємо проміжне значення next_closest\n",
        "8. Якщо next_closest знайдено, повертаємо дві вершини для наступних двох кроків."
      ],
      "metadata": {
        "id": "PhL0-GHAMMOr"
      }
    },
    {
      "cell_type": "code",
      "source": [
        "def find_closest_node(nodes: list, crossroads: list, compare_with: int, visited_nodes: list, graph):\n",
        "\n",
        "  #1\n",
        "  min_difference = graph.number_of_nodes();\n",
        "  closest_node = None;\n",
        "  next_closest = None;\n",
        "  \n",
        "  #2\n",
        "  for node in nodes:\n",
        "   if node not in visited_nodes:  \n",
        "     #3\n",
        "     if crossroads and not crossroads[node]:\n",
        "       continue;\n",
        "     #4\n",
        "     dif_module = int(math.fabs(compare_with - node));\n",
        "     #5\n",
        "     if (dif_module < min_difference): \n",
        "      min_difference = dif_module;\n",
        "      closest_node = node;\n",
        "      #6\n",
        "      if crossroads:\n",
        "       next_closest = find_closest_node(crossroads[node], {}, compare_with, visited_nodes, graph);\n",
        "  #7\n",
        "  if not next_closest:\n",
        "    return closest_node;\n",
        "  \n",
        "  #8\n",
        "  return [closest_node, next_closest];\n"
      ],
      "metadata": {
        "id": "ZdBP8T1IL5-m"
      },
      "execution_count": null,
      "outputs": []
    },
    {
      "cell_type": "markdown",
      "source": [
        "Функції для маніпуляцій базою знань та повертання назад\n",
        "\n",
        "1. При додавання у базу для полей бази, що мають метод append - масивів, списків, виконуємо цей метод, для інших (чисел, строк) - встановлюємо через =\n",
        "2. Для отримання з бази просто повертаємо потрібне поле\n",
        "3. Повернути назад, якщо не знайдено наступної вершини:\n",
        "   \n",
        "   3.1 Знаходимо з відвіданих вершин попередню\n",
        "\n",
        "   3.2  Додаємо у базу зворотній шлях та становлюємо попередню вершину поточною"
      ],
      "metadata": {
        "id": "L6E5uKm4L5fn"
      }
    },
    {
      "cell_type": "code",
      "source": [
        "#1\n",
        "def add_to_base(base: list, property: str, value):\n",
        "  if hasattr(base[property], \"append\"):\n",
        "    base[property].append(value);\n",
        "  else: \n",
        "    base[property] = value;\n",
        "\n",
        "#2\n",
        "def get_from_base(base: list, property: str):\n",
        "  return base[property];\n",
        "\n",
        "#3\n",
        "def go_back(base: list):\n",
        "  print('Going back');\n",
        "  #3.1\n",
        "  visited = get_from_base(base,\"visited_nodes\");\n",
        "  current = get_from_base(base,\"current_position\");\n",
        "  cur_index = visited.index(current);\n",
        "  prev_node = visited[cur_index -1];\n",
        "\n",
        "  #3.2\n",
        "  add_to_base(base, \"road\", (current, prev_node));\n",
        "  print(\"Road\");\n",
        "  print(get_from_base(base,\"road\"));\n",
        "  add_to_base(base, \"current_position\", prev_node);\n"
      ],
      "metadata": {
        "id": "MpEmHDgsRTo3"
      },
      "execution_count": null,
      "outputs": []
    },
    {
      "cell_type": "markdown",
      "source": [
        "Функція, що обирає дію для агента\n",
        "\n",
        "1. Випадок, коли поточна вершина має шлях до кінцевої\n",
        "2. Додаємо до бази шлях від поточної вершини до кінцевої\n",
        "3. Виводимо результат у консоль\n",
        "4. Випадок, коли кінцева вершина доспуна з наступного перехрестя\n",
        "5. Для кожного доступного шляху знаходимо досяжні вершини наступного перехрестя\n",
        "6. Якщо шляху на наступному перехресті ще немає на карті, додаємо його до карти\n",
        "7. Якщо вершина, досяжна на наступному перехресті кінцева, додаємо до дороги шлях від поточної до наступної і від наступної до кінцевої, робимо вивід в консоль\n",
        "8. Повертаємо true для виходу з циклу в тілі функції-агента\n",
        "9. Випадок, коли кінцева вершина далі ніж в двох перехрестях від поточної\n",
        "10. Знаходимо наступні дві вершини шляху\n",
        "11. Якщо другої вершини немає, повертаємось назад\n",
        "12. Додаємо до дороги шлях від поточної до наступної і від наступної до ще однієї наступної, робимо вивід в консоль\n",
        "13. Додаємо пройдені вершини у список відвіданих та встановлюємо останню вершину шляху поточною"
      ],
      "metadata": {
        "id": "LZS42_puS-ue"
      }
    },
    {
      "cell_type": "code",
      "source": [
        "def ask_for_action(base: list, available_ways: list, available_crossroads: list, end_node: num, action_type: str):\n",
        "  #1\n",
        "  if action_type == \"End is next\":\n",
        "    cur_position = get_from_base(base,\"current_position\");\n",
        "    \n",
        "    #2\n",
        "    add_to_base(base, \"map\", (cur_position, end_node));\n",
        "    add_to_base(base, \"road\", (cur_position, end_node));\n",
        "    \n",
        "    #3\n",
        "    print(\"Map\");\n",
        "    print(get_from_base(base, \"map\"));\n",
        "    print(\"Road\");\n",
        "    print(get_from_base(base, \"road\"));\n",
        "  \n",
        "  #4\n",
        "  elif action_type == \"End is on next crossroad\":\n",
        "     cur_position = get_from_base(base,\"current_position\");\n",
        "     map = get_from_base(base, \"map\");\n",
        "     \n",
        "     #5\n",
        "     for i in available_ways:\n",
        "      add_to_base(base, \"map\", (cur_position, i));\n",
        "      available_crossroads[i] = list(G.neighbors(i));\n",
        "      for u in available_crossroads[i]:\n",
        "        #6\n",
        "        if (i,u) not in map:\n",
        "          add_to_base(base, \"map\", (i, u));\n",
        "        #7\n",
        "        if (u == end_node):\n",
        "          add_to_base(base, \"road\", (cur_position, i));\n",
        "    \n",
        "          print(\"Road\");\n",
        "          print(get_from_base(base, \"road\"));\n",
        "        \n",
        "          add_to_base(base, \"road\", (i, u));\n",
        "          print(\"Road\");\n",
        "          print(get_from_base(base, \"road\"));\n",
        "          #8\n",
        "          return True;\n",
        "  #9\n",
        "  elif action_type == \"Find next node\":\n",
        "    #10\n",
        "    [next_node, second_step_node] = find_closest_node(available_ways, available_crossroads, end_node, get_from_base(base, \"visited_nodes\"), G);\n",
        "    #11\n",
        "    if (not next_node):\n",
        "      go_back(base);\n",
        "    \n",
        "    #12\n",
        "    add_to_base(base, \"road\", (get_from_base(base, \"current_position\"), next_node));\n",
        "    add_to_base(base, \"road\", (next_node, second_step_node));\n",
        "    print(\"Road\");\n",
        "    print(base[\"road\"]);\n",
        "\n",
        "    print(\"Map\");\n",
        "    print(get_from_base(base, \"map\"));\n",
        "    \n",
        "    #13\n",
        "    add_to_base(base, \"visited_nodes\", next_node);\n",
        "    add_to_base(base, \"visited_nodes\", second_step_node);\n",
        "    add_to_base(base, \"current_position\", second_step_node);"
      ],
      "metadata": {
        "id": "zMYrtMfVS_Gs"
      },
      "execution_count": 85,
      "outputs": []
    },
    {
      "cell_type": "markdown",
      "source": [
        "Функція - агент\n",
        "\n",
        "1. Заздалегідь задаємо масив кольорів графа\n",
        "2. В агенті створюємо базу знань\n",
        "3. Виконуємо пошук, поки поточна вершина не є кінцевою\n",
        "4. Встановлюємо допоміжний флаг для виходу з циклу, якщо шлях знайдено. Також знаходимо можливі шляхи\n",
        "5. Якщо є шлях до кінцевої вершини, викликаємо відповідний варіант допоміжної функції\n",
        "6. Шукаємо кінцеву вершину на доступних перехрестях, якщо знаходимо, виходимо з циклу\n",
        "7. В іншому випадку викликаємо варіант пошуку наступних вершин для переміщення\n",
        "8. Розфарбовуємо граф\n",
        "9. Викликаємо агента та малюємо граф після виконання агента"
      ],
      "metadata": {
        "id": "rEcsbScsWEXY"
      }
    },
    {
      "cell_type": "code",
      "source": [
        "#1\n",
        "edge_colors = [];\n",
        "\n",
        "def agent(start: int, end: int, G): \n",
        "\n",
        "  #2\n",
        "  knowledge_base = {\n",
        "      \"current_position\": start,\n",
        "      \"visited_nodes\": [start],\n",
        "      \"road\": [],\n",
        "      \"map\": [],\n",
        "  };\n",
        "\n",
        "  print('Moving starts');\n",
        "  cur_position = get_from_base(knowledge_base,\"current_position\");\n",
        "\n",
        "  #3\n",
        "  while(cur_position != end):   \n",
        "    print(\"--- Next step ---\");\n",
        "    #4\n",
        "    break_out_flag = False;\n",
        "    available_ways = list(G.neighbors(get_from_base(knowledge_base,\"current_position\")));\n",
        "    available_next_crossroads = {};\n",
        "\n",
        "    #5\n",
        "    if end in available_ways:\n",
        "      ask_for_action(knowledge_base, available_ways, available_next_crossroads, end, \"End is next\");\n",
        "      break;\n",
        "\n",
        "    #6\n",
        "    break_out_flag = ask_for_action(knowledge_base, available_ways, available_next_crossroads, end, \"End is on next crossroad\");\n",
        "    if break_out_flag:\n",
        "      break;\n",
        "\n",
        "    #7\n",
        "    ask_for_action(knowledge_base, available_ways, available_next_crossroads, end, \"Find next node\");\n",
        "\n",
        "  #8\n",
        "  for u,v in G.edges():\n",
        "    if (u,v) in knowledge_base[\"road\"] and (v,u) in knowledge_base[\"road\"]:\n",
        "        edge_colors.append('red');\n",
        "    elif (u,v) in knowledge_base[\"road\"] or (v,u) in knowledge_base[\"road\"]:\n",
        "        edge_colors.append('green');\n",
        "    else: \n",
        "        edge_colors.append('blue');   \n",
        "        \n",
        "#9\n",
        "agent(21, 0, G);\n",
        "\n",
        "nx.draw(G, pos, edge_color=edge_colors, node_size=1000, with_labels=True);"
      ],
      "metadata": {
        "id": "rVGIgd35hZCr",
        "colab": {
          "base_uri": "https://localhost:8080/",
          "height": 714
        },
        "outputId": "6febcac1-9212-470d-ef1e-c9c470e4cdb3"
      },
      "execution_count": 87,
      "outputs": [
        {
          "output_type": "stream",
          "name": "stdout",
          "text": [
            "Moving starts\n",
            "--- Next step ---\n",
            "Road\n",
            "[(21, 15), (15, 9)]\n",
            "Map\n",
            "[(21, 20), (20, 19), (20, 14), (20, 21), (20, 26), (21, 15), (15, 14), (15, 9), (15, 21), (21, 22), (22, 21), (22, 16), (22, 23), (22, 28), (21, 27), (27, 26), (27, 21), (27, 28)]\n",
            "--- Next step ---\n",
            "Road\n",
            "[(21, 15), (15, 9), (9, 3), (3, 2)]\n",
            "Map\n",
            "[(21, 20), (20, 19), (20, 14), (20, 21), (20, 26), (21, 15), (15, 14), (15, 9), (15, 21), (21, 22), (22, 21), (22, 16), (22, 23), (22, 28), (21, 27), (27, 26), (27, 21), (27, 28), (9, 8), (8, 7), (8, 2), (8, 9), (8, 14), (9, 3), (3, 2), (3, 4), (3, 9), (9, 10), (10, 9), (10, 4), (10, 11), (10, 16), (9, 15)]\n",
            "--- Next step ---\n",
            "Road\n",
            "[(21, 15), (15, 9), (9, 3), (3, 2), (2, 1), (1, 7)]\n",
            "Map\n",
            "[(21, 20), (20, 19), (20, 14), (20, 21), (20, 26), (21, 15), (15, 14), (15, 9), (15, 21), (21, 22), (22, 21), (22, 16), (22, 23), (22, 28), (21, 27), (27, 26), (27, 21), (27, 28), (9, 8), (8, 7), (8, 2), (8, 9), (8, 14), (9, 3), (3, 2), (3, 4), (3, 9), (9, 10), (10, 9), (10, 4), (10, 11), (10, 16), (9, 15), (2, 1), (1, 2), (1, 7), (2, 3), (2, 8)]\n",
            "--- Next step ---\n",
            "Road\n",
            "[(21, 15), (15, 9), (9, 3), (3, 2), (2, 1), (1, 7), (7, 6)]\n",
            "Road\n",
            "[(21, 15), (15, 9), (9, 3), (3, 2), (2, 1), (1, 7), (7, 6), (6, 0)]\n"
          ]
        },
        {
          "output_type": "display_data",
          "data": {
            "text/plain": [
              "<Figure size 432x288 with 1 Axes>"
            ],
            "image/png": "[encoded data removed]"
          },
          "metadata": {}
        }
      ]
    },
    {
      "cell_type": "markdown",
      "source": [
        "Висновок:\n",
        "\n",
        "У даній роботі було розроблено інтелектуальний агент у вигляді функції, що знаходить шлях від одної вершини графа до іншої, враховуючи тільки поточний стан."
      ],
      "metadata": {
        "id": "UZFTwmoKrxb8"
      }
    }
  ]
}